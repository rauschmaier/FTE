{
 "cells": [
  {
   "cell_type": "markdown",
   "metadata": {},
   "source": [
    "# Klassenarbeit Nummer 1, INF\n",
    "\n",
    "Erlaubt Hilfsmittel: Operatorenliste für Struktogramme und folgende \"Formelsammlung\".\n",
    "![formel](https://raw.githubusercontent.com/sttoraus/Teaching-/master/formelsammlung.JPG)\n",
    "### Viel Erfolg! "
   ]
  },
  {
   "cell_type": "markdown",
   "metadata": {},
   "source": [
    "### Aufgabe 1:\n",
    "1. Nennen Sie vier verschiedene Datentypen und erläutern Sie, welche Inhalte in den entsprechenden Datentypen gespeichert werden können. Schreiben Sie Ihre Antwort in einem neuen Markdown-Feld.  (4 Punkte)\n",
    "2. Mit welcher Funktion kann der Datentyp einer Variable ermittelt werden? Geben Sie hierzu ein Code-Beispiel an.(2 Punkte)\n"
   ]
  },
  {
   "cell_type": "code",
   "execution_count": null,
   "metadata": {},
   "outputs": [],
   "source": []
  },
  {
   "cell_type": "markdown",
   "metadata": {},
   "source": [
    "### Aufgabe 2:\n",
    "\n",
    "Realisieren Sie folgende Bildschirmausgaben mit einer while-Schleife; die Ausgabe der Zahlen darf wahlweise in einer, oder auch in mehreren Zeilen erfolgen. (4 Punkte)\n",
    "\n",
    "0 1 2 3 4 5 6 7 8 "
   ]
  },
  {
   "cell_type": "code",
   "execution_count": null,
   "metadata": {},
   "outputs": [],
   "source": []
  },
  {
   "cell_type": "markdown",
   "metadata": {},
   "source": [
    "### Aufgabe 3:\n",
    "Schreiben Sie eine Code, welcher zwei Gleitkommazahlen einliest. \n",
    "- Ist die Summe der beiden eingegeben Zahlen größer als 5, soll anschließend die Summe der beiden Zahlen und ein Ausrufezeichen am Bildschirm ausgegeben werden (in einer Zeile). (4 Punkte)\n",
    "- Ansonsten soll die Summe und ein Fragezeichen in einer Zeile ausgegeben werden."
   ]
  },
  {
   "cell_type": "code",
   "execution_count": null,
   "metadata": {},
   "outputs": [],
   "source": []
  },
  {
   "cell_type": "markdown",
   "metadata": {},
   "source": [
    "### Aufgabe 4\n",
    "Der folgende Code ist fehlerbehaftet und lässt sich nicht ausführen.\n",
    "Prüfen Sie den Code und beheben Sie die Fehler (5 Punkte)"
   ]
  },
  {
   "cell_type": "code",
   "execution_count": null,
   "metadata": {},
   "outputs": [],
   "source": [
    "eingabe=input(\"Bitte Zeichenkette eingeben\"))\n",
    "laenge=len(eingabe)\n",
    "if(lange>3)\n",
    "    print(\"Sie haben mehr als 3 Zeichen eingegeben\")\n",
    "    else(laenge<=3):\n",
    "        (\"Sie haben weniger als 4 Zeichen eingegeben\")\n",
    "print(\"Sie haben insgesamt\"laenge,\"Zeichen eingegeben!\")"
   ]
  },
  {
   "cell_type": "markdown",
   "metadata": {},
   "source": [
    "#### Aufgabe 5:\n",
    "Schreiben Sie den Code zu folgendem Struktogramm.  \n",
    "**Hinweis:** Ob eine Zahl gerade ist, lässt sich mit dem Modulo-Operator prüfen!\n",
    "![Aufgabe](dual.JPG)\n",
    "Hinweis: Der Code wandelt die eingegebene Dezimalzahl in das Dualezahlensystem und gibt diese (in falscher Reihenfolge) am Bildschirm aus  (8 Punkte)"
   ]
  },
  {
   "cell_type": "code",
   "execution_count": null,
   "metadata": {},
   "outputs": [],
   "source": []
  },
  {
   "cell_type": "markdown",
   "metadata": {},
   "source": [
    "### Aufgabe 6"
   ]
  },
  {
   "cell_type": "markdown",
   "metadata": {},
   "source": [
    "\n",
    "- Lesen Sie eine Zeichenkette ein\n",
    "- Geben Sie diese rückwärts in einer Zeile aus\n",
    "\n",
    "Beispiel:  \n",
    "Eingabe: Hallo  \n",
    "Ausgabe: ollaH  \n",
    "\n",
    "(4 Punkte)"
   ]
  },
  {
   "cell_type": "code",
   "execution_count": null,
   "metadata": {},
   "outputs": [],
   "source": []
  },
  {
   "cell_type": "markdown",
   "metadata": {},
   "source": [
    "### Aufgabe 7\n",
    "Im nachfolgenden Code wird der Benutzer aufgefordert ein \"y\" einzutippen, wenn fortgefahren werden soll. Viele Benutzer tippen fälschlicherweiße Y (groß y) statt y ein. Ändern Sie die Bedingung der IF-Abfrage so ab, dass auch ein Y zum fortfahren zulässig ist. Nutzen Sie hierzu die Methode \"upper\" oder \"lower\" der Klasse String! (2 Punkte)"
   ]
  },
  {
   "cell_type": "code",
   "execution_count": null,
   "metadata": {},
   "outputs": [],
   "source": [
    "eingabe=input(\"Möchten Sie fortfahren? y/n\")\n",
    "if (eingabe == \"y\"): \n",
    "    print(\"Vielen Dank, wir kümmern uns sofort um Ihr Anliegen \")\n",
    "else: \n",
    "    print(\"Auf Wiedersehen\")\n"
   ]
  },
  {
   "cell_type": "code",
   "execution_count": null,
   "metadata": {},
   "outputs": [],
   "source": []
  },
  {
   "cell_type": "markdown",
   "metadata": {},
   "source": [
    "\n"
   ]
  },
  {
   "cell_type": "markdown",
   "metadata": {},
   "source": [
    "### Aufgabe 8"
   ]
  },
  {
   "cell_type": "markdown",
   "metadata": {},
   "source": [
    "Im folgenden Code gibt es zwei Würfel. Wird der Code ausgeführt, wird für jeden der beiden Würfel eine zufällige Zahl zwischen 1 und 6 erzeugt.  \n",
    "Folgende Aufgabe:\n",
    "1. Ist die Summe der beiden Würfel 12, soll folgende Bildschirmausgabe erfolgen: \"Sie haben 30 Punkte\"\n",
    "2. Wird ein Pasch gewürfelt und die Summe der beiden Würfel ist kleiner 5, soll folgende Bildschirmausgabe erfolgen: \"Sie haben 20 Punkte\"\n",
    "3. Wird ein Pasch gewürfelt und Punkt 1&2 treffen nicht zu, soll folgende Bildschirmausgabe erfolgen: \"Sie haben 10 Punkte\"\n",
    "4. Ist die Summe der beiden Würfel größer 5 und die Punkte 1-3 treffen nicht zu, soll folgende Bildschirmausgabe erfolgen: \"Sie haben 5 Punkte\"\n",
    "5. Trifft keine der obigen Punkt zu, soll folgende Bildschirmausgabe erfolgen: \"Sie haben 0 Punkte\"\n",
    "\n",
    "Hinweis: Es darf nur eine der obigen Bildschirmausgaben erscheinen. (8 Punkte)"
   ]
  },
  {
   "cell_type": "code",
   "execution_count": 35,
   "metadata": {},
   "outputs": [
    {
     "name": "stdout",
     "output_type": "stream",
     "text": [
      "Sie haben eine 6 und eine 5 gewürfelt\n"
     ]
    }
   ],
   "source": [
    "import random\n",
    "wuerfel1=random.randint(1,6)  # Zufallszahl zwischen 1 und 6\n",
    "wuerfel2=random.randint(1,6)  # Zufallszahl zwischen 1 und 6\n",
    "print(\"Sie haben eine\",wuerfel1,\"und eine\",wuerfel2,\"gewürfelt\")\n"
   ]
  },
  {
   "cell_type": "markdown",
   "metadata": {},
   "source": [
    "## Zusatzaufgabe\n",
    "Der Code aus Aufgabe 5 gibt die Duazahl von rechts nach links aus. Das bedeutet, wenn z.B als Eingabe die Zahl 256 eingegeben wird, erscheint folgende Ausgabe am Bildschirm: \n",
    "Dualzahl: 000000001  \n",
    "Schreiben Sie einen Code, welcher die Zahl korrekt ausgibt (100000000)   (Ein Bonuspunkt)"
   ]
  },
  {
   "cell_type": "code",
   "execution_count": null,
   "metadata": {},
   "outputs": [],
   "source": []
  },
  {
   "cell_type": "code",
   "execution_count": null,
   "metadata": {},
   "outputs": [],
   "source": []
  },
  {
   "cell_type": "code",
   "execution_count": null,
   "metadata": {},
   "outputs": [],
   "source": []
  },
  {
   "cell_type": "code",
   "execution_count": null,
   "metadata": {},
   "outputs": [],
   "source": []
  },
  {
   "cell_type": "code",
   "execution_count": null,
   "metadata": {},
   "outputs": [],
   "source": []
  },
  {
   "cell_type": "code",
   "execution_count": null,
   "metadata": {},
   "outputs": [],
   "source": []
  }
 ],
 "metadata": {
  "kernelspec": {
   "display_name": "Python 3",
   "language": "python",
   "name": "python3"
  },
  "language_info": {
   "codemirror_mode": {
    "name": "ipython",
    "version": 3
   },
   "file_extension": ".py",
   "mimetype": "text/x-python",
   "name": "python",
   "nbconvert_exporter": "python",
   "pygments_lexer": "ipython3",
   "version": "3.8.3"
  }
 },
 "nbformat": 4,
 "nbformat_minor": 4
}
